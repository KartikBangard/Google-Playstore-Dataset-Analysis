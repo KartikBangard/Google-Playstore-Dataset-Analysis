{
 "cells": [
  {
   "cell_type": "code",
   "execution_count": 1,
   "id": "86135f62",
   "metadata": {},
   "outputs": [],
   "source": [
    "import pandas as pd\n",
    "import numpy as np"
   ]
  },
  {
   "cell_type": "markdown",
   "id": "93dfd9ed",
   "metadata": {},
   "source": [
    "## Removing all the null values"
   ]
  },
  {
   "cell_type": "code",
   "execution_count": 66,
   "id": "c5f6c132",
   "metadata": {},
   "outputs": [],
   "source": [
    "df = pd.read_csv(\"googleplaystore.csv\").dropna()"
   ]
  },
  {
   "cell_type": "code",
   "execution_count": 67,
   "id": "dcc922ca",
   "metadata": {},
   "outputs": [
    {
     "data": {
      "text/plain": [
       "0           Photo Editor & Candy Camera & Grid & ScrapBook\n",
       "1                                      Coloring book moana\n",
       "2        U Launcher Lite – FREE Live Cool Themes, Hide ...\n",
       "3                                    Sketch - Draw & Paint\n",
       "4                    Pixel Draw - Number Art Coloring Book\n",
       "                               ...                        \n",
       "10834                                        FR Calculator\n",
       "10836                                     Sya9a Maroc - FR\n",
       "10837                     Fr. Mike Schmitz Audio Teachings\n",
       "10839                        The SCP Foundation DB fr nn5n\n",
       "10840        iHoroscope - 2018 Daily Horoscope & Astrology\n",
       "Name: App, Length: 9360, dtype: object"
      ]
     },
     "execution_count": 67,
     "metadata": {},
     "output_type": "execute_result"
    }
   ],
   "source": [
    "data[\"App\"]"
   ]
  },
  {
   "cell_type": "markdown",
   "id": "17d747d9",
   "metadata": {},
   "source": [
    "## Checking if there is any null value left"
   ]
  },
  {
   "cell_type": "code",
   "execution_count": 69,
   "id": "3be843a6",
   "metadata": {},
   "outputs": [
    {
     "data": {
      "text/plain": [
       "App               0\n",
       "Category          0\n",
       "Rating            0\n",
       "Reviews           0\n",
       "Size              0\n",
       "Installs          0\n",
       "Type              0\n",
       "Price             0\n",
       "Content Rating    0\n",
       "Genres            0\n",
       "Last Updated      0\n",
       "Current Ver       0\n",
       "Android Ver       0\n",
       "dtype: int64"
      ]
     },
     "execution_count": 69,
     "metadata": {},
     "output_type": "execute_result"
    }
   ],
   "source": [
    "df.isnull().sum()"
   ]
  },
  {
   "cell_type": "markdown",
   "id": "3c067c39",
   "metadata": {},
   "source": [
    "## Finding Average Rating"
   ]
  },
  {
   "cell_type": "code",
   "execution_count": 36,
   "id": "619e8ee3",
   "metadata": {},
   "outputs": [
    {
     "data": {
      "text/plain": [
       "0        4.1\n",
       "1        3.9\n",
       "2        4.7\n",
       "3        4.5\n",
       "4        4.3\n",
       "        ... \n",
       "10834    4.0\n",
       "10836    4.5\n",
       "10837    5.0\n",
       "10839    4.5\n",
       "10840    4.5\n",
       "Name: Rating, Length: 9360, dtype: float64"
      ]
     },
     "execution_count": 36,
     "metadata": {},
     "output_type": "execute_result"
    }
   ],
   "source": [
    "data[\"Rating\"]"
   ]
  },
  {
   "cell_type": "code",
   "execution_count": 70,
   "id": "e1fd8d12",
   "metadata": {},
   "outputs": [
    {
     "data": {
      "text/plain": [
       "4.19"
      ]
     },
     "execution_count": 70,
     "metadata": {},
     "output_type": "execute_result"
    }
   ],
   "source": [
    "float(str(int(sum(data[\"Rating\"]))/len(data[\"Rating\"]))[:4])"
   ]
  },
  {
   "cell_type": "code",
   "execution_count": 71,
   "id": "de3fb4a2",
   "metadata": {},
   "outputs": [
    {
     "name": "stdout",
     "output_type": "stream",
     "text": [
      "Average rating is 4.19\n"
     ]
    }
   ],
   "source": [
    "print(\"Average rating is\", float(str(int(sum(data[\"Rating\"]))/len(data[\"Rating\"]))[:4]) )"
   ]
  },
  {
   "cell_type": "markdown",
   "id": "cf3a0e2c",
   "metadata": {},
   "source": [
    "## Apps with Rating 5"
   ]
  },
  {
   "cell_type": "code",
   "execution_count": 65,
   "id": "ec8ee3db",
   "metadata": {},
   "outputs": [
    {
     "name": "stdout",
     "output_type": "stream",
     "text": [
      "Total apps with Rating 5 are 274\n"
     ]
    }
   ],
   "source": [
    "c=0\n",
    "\n",
    "for i in data[\"Rating\"]:\n",
    "    if (i==5.0):\n",
    "        c+=1\n",
    "print(\"Total apps with Rating 5 are\", c)        "
   ]
  },
  {
   "cell_type": "markdown",
   "id": "5d85d22e",
   "metadata": {},
   "source": [
    "## Apps with Rating Between 4-4.5"
   ]
  },
  {
   "cell_type": "code",
   "execution_count": 64,
   "id": "aad00882",
   "metadata": {},
   "outputs": [
    {
     "name": "stdout",
     "output_type": "stream",
     "text": [
      "Total apps with Rating between 4 and 4.5 are 5446\n"
     ]
    }
   ],
   "source": [
    "c=0\n",
    "\n",
    "for i in data[\"Rating\"]:\n",
    "    if (i >=4.0 and i <=4.5):\n",
    "        c+=1\n",
    "print(\"Total apps with Rating between 4 and 4.5 are\", c) "
   ]
  },
  {
   "cell_type": "code",
   "execution_count": 77,
   "id": "c8e495f3",
   "metadata": {},
   "outputs": [
    {
     "name": "stdout",
     "output_type": "stream",
     "text": [
      "ART_AND_DESIGN\n",
      "AUTO_AND_VEHICLES\n",
      "BEAUTY\n",
      "BOOKS_AND_REFERENCE\n",
      "BUSINESS\n",
      "COMICS\n",
      "COMMUNICATION\n",
      "DATING\n",
      "EDUCATION\n",
      "ENTERTAINMENT\n",
      "EVENTS\n",
      "FINANCE\n",
      "FOOD_AND_DRINK\n",
      "HEALTH_AND_FITNESS\n",
      "HOUSE_AND_HOME\n",
      "LIBRARIES_AND_DEMO\n",
      "LIFESTYLE\n",
      "GAME\n",
      "FAMILY\n",
      "MEDICAL\n",
      "SOCIAL\n",
      "SHOPPING\n",
      "PHOTOGRAPHY\n",
      "SPORTS\n",
      "TRAVEL_AND_LOCAL\n",
      "TOOLS\n",
      "PERSONALIZATION\n",
      "PRODUCTIVITY\n",
      "PARENTING\n",
      "WEATHER\n",
      "VIDEO_PLAYERS\n",
      "NEWS_AND_MAGAZINES\n",
      "MAPS_AND_NAVIGATION\n"
     ]
    }
   ],
   "source": [
    "for i in df[\"Category\"].unique():\n",
    "    print(i)"
   ]
  },
  {
   "cell_type": "markdown",
   "id": "4b799172",
   "metadata": {},
   "source": [
    "## Total apps in Art and Design Category"
   ]
  },
  {
   "cell_type": "code",
   "execution_count": 80,
   "id": "0630cfad",
   "metadata": {},
   "outputs": [
    {
     "name": "stdout",
     "output_type": "stream",
     "text": [
      "61\n"
     ]
    }
   ],
   "source": [
    "c = 0\n",
    "for i in df[\"Category\"]:\n",
    "    if(i == \"ART_AND_DESIGN\"):\n",
    "        c+=1\n",
    "print(c)"
   ]
  },
  {
   "cell_type": "markdown",
   "id": "e1a4ef00",
   "metadata": {},
   "source": [
    "## Number of Free and Paid Apps"
   ]
  },
  {
   "cell_type": "code",
   "execution_count": 94,
   "id": "3d28630d",
   "metadata": {
    "scrolled": true
   },
   "outputs": [
    {
     "name": "stdout",
     "output_type": "stream",
     "text": [
      "Total free apps = 8715\n",
      "Total paid apps = 645\n",
      "Ratio of free apps = 93.1 %\n"
     ]
    }
   ],
   "source": [
    "c = 0\n",
    "for i in df[\"Type\"]:\n",
    "    if(i == \"Free\"):\n",
    "        c+=1\n",
    "print(\"Total free apps =\",c)\n",
    "\n",
    "p = 0\n",
    "for i in df[\"Type\"]:\n",
    "    if(i == \"Paid\"):\n",
    "        p+=1\n",
    "print(\"Total paid apps =\",p)\n",
    "\n",
    "\n",
    "print(\"Ratio of free apps =\",round(c/(c+p)*100,1),\"%\")"
   ]
  },
  {
   "cell_type": "markdown",
   "id": "b0600d21",
   "metadata": {},
   "source": [
    "## Categories of Content"
   ]
  },
  {
   "cell_type": "code",
   "execution_count": 101,
   "id": "38bdb0a4",
   "metadata": {},
   "outputs": [
    {
     "name": "stdout",
     "output_type": "stream",
     "text": [
      "Everyone\n",
      "Teen\n",
      "Everyone 10+\n",
      "Mature 17+\n",
      "Adults only 18+\n",
      "Unrated\n"
     ]
    }
   ],
   "source": [
    "for i in df[\"Content Rating\"].unique():\n",
    "    print(i)"
   ]
  },
  {
   "cell_type": "markdown",
   "id": "a3c851e3",
   "metadata": {},
   "source": [
    "## Total Apps in each Category"
   ]
  },
  {
   "cell_type": "code",
   "execution_count": 134,
   "id": "44b79436",
   "metadata": {},
   "outputs": [
    {
     "name": "stdout",
     "output_type": "stream",
     "text": [
      "ART_AND_DESIGN 61\n",
      "AUTO_AND_VEHICLES 73\n",
      "BEAUTY 42\n",
      "BOOKS_AND_REFERENCE 178\n",
      "BUSINESS 303\n",
      "COMICS 58\n",
      "COMMUNICATION 328\n",
      "DATING 195\n",
      "EDUCATION 155\n",
      "ENTERTAINMENT 149\n",
      "EVENTS 45\n",
      "FINANCE 323\n",
      "FOOD_AND_DRINK 109\n",
      "HEALTH_AND_FITNESS 297\n",
      "HOUSE_AND_HOME 76\n",
      "LIBRARIES_AND_DEMO 64\n",
      "LIFESTYLE 314\n",
      "GAME 1097\n",
      "FAMILY 1746\n",
      "MEDICAL 350\n",
      "SOCIAL 259\n",
      "SHOPPING 238\n",
      "PHOTOGRAPHY 317\n",
      "SPORTS 319\n",
      "TRAVEL_AND_LOCAL 226\n",
      "TOOLS 733\n",
      "PERSONALIZATION 312\n",
      "PRODUCTIVITY 351\n",
      "PARENTING 50\n",
      "WEATHER 75\n",
      "VIDEO_PLAYERS 160\n",
      "NEWS_AND_MAGAZINES 233\n",
      "MAPS_AND_NAVIGATION 124\n"
     ]
    }
   ],
   "source": [
    "cat = {}\n",
    "\n",
    "for name in df[\"Category\"].unique():\n",
    "    ct = 0\n",
    "    for i in df[\"Category\"]:\n",
    "        if(i == name):\n",
    "            ct += 1\n",
    "    cat[name] = ct        \n",
    "    \n",
    "for i in df[\"Category\"].unique():\n",
    "    print(i,cat[i])"
   ]
  },
  {
   "cell_type": "markdown",
   "id": "042b0be5",
   "metadata": {},
   "source": [
    "## Total Apps in each Type"
   ]
  },
  {
   "cell_type": "code",
   "execution_count": 137,
   "id": "2d28c299",
   "metadata": {},
   "outputs": [
    {
     "name": "stdout",
     "output_type": "stream",
     "text": [
      "{'Free': 8715, 'Paid': 645}\n"
     ]
    }
   ],
   "source": [
    "t = {}\n",
    "\n",
    "for name in df[\"Type\"].unique():\n",
    "    ct = 0\n",
    "    for i in df[\"Type\"]:\n",
    "        if(i == name):\n",
    "            ct += 1\n",
    "    t[name] = ct\n",
    "    \n",
    "print(t)    "
   ]
  },
  {
   "cell_type": "markdown",
   "id": "b509e9bc",
   "metadata": {},
   "source": [
    "## Total Apps in each Content Rating"
   ]
  },
  {
   "cell_type": "code",
   "execution_count": 138,
   "id": "fe974685",
   "metadata": {},
   "outputs": [
    {
     "name": "stdout",
     "output_type": "stream",
     "text": [
      "{'Everyone': 7414, 'Teen': 1084, 'Everyone 10+': 397, 'Mature 17+': 461, 'Adults only 18+': 3, 'Unrated': 1}\n"
     ]
    }
   ],
   "source": [
    "cr = {}\n",
    "\n",
    "for name in df[\"Content Rating\"].unique():\n",
    "    ct = 0\n",
    "    for i in df[\"Content Rating\"]:\n",
    "        if(i == name):\n",
    "            ct += 1\n",
    "    cr[name] = ct\n",
    "    \n",
    "print(cr)    "
   ]
  },
  {
   "cell_type": "markdown",
   "id": "963f2fac",
   "metadata": {},
   "source": [
    "## Working with Null Values without removing them"
   ]
  },
  {
   "cell_type": "code",
   "execution_count": 151,
   "id": "d4739f5b",
   "metadata": {},
   "outputs": [
    {
     "data": {
      "text/html": [
       "<div>\n",
       "<style scoped>\n",
       "    .dataframe tbody tr th:only-of-type {\n",
       "        vertical-align: middle;\n",
       "    }\n",
       "\n",
       "    .dataframe tbody tr th {\n",
       "        vertical-align: top;\n",
       "    }\n",
       "\n",
       "    .dataframe thead th {\n",
       "        text-align: right;\n",
       "    }\n",
       "</style>\n",
       "<table border=\"1\" class=\"dataframe\">\n",
       "  <thead>\n",
       "    <tr style=\"text-align: right;\">\n",
       "      <th></th>\n",
       "      <th>App</th>\n",
       "      <th>Category</th>\n",
       "      <th>Rating</th>\n",
       "      <th>Reviews</th>\n",
       "      <th>Size</th>\n",
       "      <th>Installs</th>\n",
       "      <th>Type</th>\n",
       "      <th>Price</th>\n",
       "      <th>Content Rating</th>\n",
       "      <th>Genres</th>\n",
       "      <th>Last Updated</th>\n",
       "      <th>Current Ver</th>\n",
       "      <th>Android Ver</th>\n",
       "    </tr>\n",
       "  </thead>\n",
       "  <tbody>\n",
       "    <tr>\n",
       "      <th>0</th>\n",
       "      <td>Photo Editor &amp; Candy Camera &amp; Grid &amp; ScrapBook</td>\n",
       "      <td>ART_AND_DESIGN</td>\n",
       "      <td>4.1</td>\n",
       "      <td>159</td>\n",
       "      <td>19M</td>\n",
       "      <td>10,000+</td>\n",
       "      <td>Free</td>\n",
       "      <td>0</td>\n",
       "      <td>Everyone</td>\n",
       "      <td>Art &amp; Design</td>\n",
       "      <td>January 7, 2018</td>\n",
       "      <td>1.0.0</td>\n",
       "      <td>4.0.3 and up</td>\n",
       "    </tr>\n",
       "    <tr>\n",
       "      <th>1</th>\n",
       "      <td>Coloring book moana</td>\n",
       "      <td>ART_AND_DESIGN</td>\n",
       "      <td>3.9</td>\n",
       "      <td>967</td>\n",
       "      <td>14M</td>\n",
       "      <td>500,000+</td>\n",
       "      <td>Free</td>\n",
       "      <td>0</td>\n",
       "      <td>Everyone</td>\n",
       "      <td>Art &amp; Design;Pretend Play</td>\n",
       "      <td>January 15, 2018</td>\n",
       "      <td>2.0.0</td>\n",
       "      <td>4.0.3 and up</td>\n",
       "    </tr>\n",
       "    <tr>\n",
       "      <th>2</th>\n",
       "      <td>U Launcher Lite – FREE Live Cool Themes, Hide ...</td>\n",
       "      <td>ART_AND_DESIGN</td>\n",
       "      <td>4.7</td>\n",
       "      <td>87510</td>\n",
       "      <td>8.7M</td>\n",
       "      <td>5,000,000+</td>\n",
       "      <td>Free</td>\n",
       "      <td>0</td>\n",
       "      <td>Everyone</td>\n",
       "      <td>Art &amp; Design</td>\n",
       "      <td>August 1, 2018</td>\n",
       "      <td>1.2.4</td>\n",
       "      <td>4.0.3 and up</td>\n",
       "    </tr>\n",
       "    <tr>\n",
       "      <th>3</th>\n",
       "      <td>Sketch - Draw &amp; Paint</td>\n",
       "      <td>ART_AND_DESIGN</td>\n",
       "      <td>4.5</td>\n",
       "      <td>215644</td>\n",
       "      <td>25M</td>\n",
       "      <td>50,000,000+</td>\n",
       "      <td>Free</td>\n",
       "      <td>0</td>\n",
       "      <td>Teen</td>\n",
       "      <td>Art &amp; Design</td>\n",
       "      <td>June 8, 2018</td>\n",
       "      <td>Varies with device</td>\n",
       "      <td>4.2 and up</td>\n",
       "    </tr>\n",
       "    <tr>\n",
       "      <th>4</th>\n",
       "      <td>Pixel Draw - Number Art Coloring Book</td>\n",
       "      <td>ART_AND_DESIGN</td>\n",
       "      <td>4.3</td>\n",
       "      <td>967</td>\n",
       "      <td>2.8M</td>\n",
       "      <td>100,000+</td>\n",
       "      <td>Free</td>\n",
       "      <td>0</td>\n",
       "      <td>Everyone</td>\n",
       "      <td>Art &amp; Design;Creativity</td>\n",
       "      <td>June 20, 2018</td>\n",
       "      <td>1.1</td>\n",
       "      <td>4.4 and up</td>\n",
       "    </tr>\n",
       "  </tbody>\n",
       "</table>\n",
       "</div>"
      ],
      "text/plain": [
       "                                                 App        Category  Rating   \n",
       "0     Photo Editor & Candy Camera & Grid & ScrapBook  ART_AND_DESIGN     4.1  \\\n",
       "1                                Coloring book moana  ART_AND_DESIGN     3.9   \n",
       "2  U Launcher Lite – FREE Live Cool Themes, Hide ...  ART_AND_DESIGN     4.7   \n",
       "3                              Sketch - Draw & Paint  ART_AND_DESIGN     4.5   \n",
       "4              Pixel Draw - Number Art Coloring Book  ART_AND_DESIGN     4.3   \n",
       "\n",
       "  Reviews  Size     Installs  Type Price Content Rating   \n",
       "0     159   19M      10,000+  Free     0       Everyone  \\\n",
       "1     967   14M     500,000+  Free     0       Everyone   \n",
       "2   87510  8.7M   5,000,000+  Free     0       Everyone   \n",
       "3  215644   25M  50,000,000+  Free     0           Teen   \n",
       "4     967  2.8M     100,000+  Free     0       Everyone   \n",
       "\n",
       "                      Genres      Last Updated         Current Ver   \n",
       "0               Art & Design   January 7, 2018               1.0.0  \\\n",
       "1  Art & Design;Pretend Play  January 15, 2018               2.0.0   \n",
       "2               Art & Design    August 1, 2018               1.2.4   \n",
       "3               Art & Design      June 8, 2018  Varies with device   \n",
       "4    Art & Design;Creativity     June 20, 2018                 1.1   \n",
       "\n",
       "    Android Ver  \n",
       "0  4.0.3 and up  \n",
       "1  4.0.3 and up  \n",
       "2  4.0.3 and up  \n",
       "3    4.2 and up  \n",
       "4    4.4 and up  "
      ]
     },
     "execution_count": 151,
     "metadata": {},
     "output_type": "execute_result"
    }
   ],
   "source": [
    "from sklearn.impute import SimpleImputer\n",
    "d = pd.read_csv(\"googleplaystore.csv\")\n",
    "d.head()"
   ]
  },
  {
   "cell_type": "code",
   "execution_count": 152,
   "id": "c47e5a4d",
   "metadata": {},
   "outputs": [
    {
     "data": {
      "text/plain": [
       "App                  0\n",
       "Category             0\n",
       "Rating            1474\n",
       "Reviews              0\n",
       "Size                 0\n",
       "Installs             0\n",
       "Type                 1\n",
       "Price                0\n",
       "Content Rating       1\n",
       "Genres               0\n",
       "Last Updated         0\n",
       "Current Ver          8\n",
       "Android Ver          3\n",
       "dtype: int64"
      ]
     },
     "execution_count": 152,
     "metadata": {},
     "output_type": "execute_result"
    }
   ],
   "source": [
    "d.isnull().sum()"
   ]
  },
  {
   "cell_type": "code",
   "execution_count": 157,
   "id": "867ab990",
   "metadata": {},
   "outputs": [],
   "source": [
    "# Filling all the Null Values in 'Rating' Column with the mean of all the values in that column"
   ]
  },
  {
   "cell_type": "code",
   "execution_count": 155,
   "id": "032cd9ac",
   "metadata": {},
   "outputs": [
    {
     "data": {
      "text/plain": [
       "App               0\n",
       "Category          0\n",
       "Rating            0\n",
       "Reviews           0\n",
       "Size              0\n",
       "Installs          0\n",
       "Type              1\n",
       "Price             0\n",
       "Content Rating    1\n",
       "Genres            0\n",
       "Last Updated      0\n",
       "Current Ver       8\n",
       "Android Ver       3\n",
       "dtype: int64"
      ]
     },
     "execution_count": 155,
     "metadata": {},
     "output_type": "execute_result"
    }
   ],
   "source": [
    "impute = SimpleImputer(missing_values = np.nan,strategy= 'mean')\n",
    "\n",
    "impute.fit(d.iloc[:,2:3].values)\n",
    "\n",
    "d.iloc[:,2:3] = impute.transform(d.iloc[:,2:3].values)\n",
    "\n",
    "d.isnull().sum()"
   ]
  }
 ],
 "metadata": {
  "kernelspec": {
   "display_name": "Python 3 (ipykernel)",
   "language": "python",
   "name": "python3"
  },
  "language_info": {
   "codemirror_mode": {
    "name": "ipython",
    "version": 3
   },
   "file_extension": ".py",
   "mimetype": "text/x-python",
   "name": "python",
   "nbconvert_exporter": "python",
   "pygments_lexer": "ipython3",
   "version": "3.10.9"
  }
 },
 "nbformat": 4,
 "nbformat_minor": 5
}
